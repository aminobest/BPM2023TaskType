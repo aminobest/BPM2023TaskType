{
 "cells": [
  {
   "cell_type": "code",
   "execution_count": 4,
   "id": "88fd23af",
   "metadata": {},
   "outputs": [],
   "source": [
    "import pandas as pd\n",
    "import scipy.stats as stats"
   ]
  },
  {
   "cell_type": "code",
   "execution_count": 5,
   "id": "a13f313f",
   "metadata": {},
   "outputs": [],
   "source": [
    "questions = [\n",
    " {'id': 7,\n",
    "  'question': ' The activity \"Enter container information from documents\" needs to be executed before the activity \"Create new erp system entry\"?',\n",
    "  'type': 'multiple-choice',\n",
    "  'options': \"True;False;I don't know\",\n",
    "  'model-group': '1',\n",
    "  'ExpectedAnswer': \"False\",\n",
    "  'Type1': 'Local',\n",
    "  'Type2': 'Control-flow',\n",
    "  'Type3': 'Ordering'},\n",
    " {'id': 10,\n",
    "  'question': ' The activity \"Inform customs about temporary storage\" can be executed in parallel with the activity \"Inform shipping company about temporary storage\"?',\n",
    "  'type': 'multiple-choice',\n",
    "  'options': \"True;False;I don't know\",\n",
    "  'model-group': '1',\n",
    "  'ExpectedAnswer': \"False\",\n",
    "  'Type1': 'Local',\n",
    "  'Type2': 'Control-flow',\n",
    "  'Type3': 'Concurrency'},\n",
    " {'id': 13,\n",
    "  'question': ' The activities \"Send detailed information on final destination\" and \"Load container onto train\" are mutually exclusive?',\n",
    "  'type': 'multiple-choice',\n",
    "  'options': \"True;False;I don't know\",\n",
    "  'model-group': '1',\n",
    "  'ExpectedAnswer': \"True\",\n",
    "  'Type1': 'Local',\n",
    "  'Type2': 'Control-flow',\n",
    "  'Type3': 'Exclusiveness'},\n",
    " {'id': 16,\n",
    "  'question': ' The activities \"Request independent analysis of damage\" and \"Investigate cause of shake\" can be executed several times?',\n",
    "  'type': 'multiple-choice',\n",
    "  'options': \"True;False;I don't know\",\n",
    "  'model-group': '1',\n",
    "  'ExpectedAnswer': \"True\",\n",
    "  'Type1': 'Local',\n",
    "  'Type2': 'Control-flow',\n",
    "  'Type3': 'Repetition'},\n",
    " {'id': 19,\n",
    "  'question': ' The activity \"Drive container to scanning platform\" needs to be executed before the activity \"Attach accelerometer sensor\"?',\n",
    "  'type': 'multiple-choice',\n",
    "  'options': \"True;False;I don't know\",\n",
    "  'model-group': '1',\n",
    "  'ExpectedAnswer': \"False\",\n",
    "  'Type1': 'Global',\n",
    "  'Type2': 'Control-flow',\n",
    "  'Type3': 'Ordering'},\n",
    " {'id': 22,\n",
    "  'question': ' The activity \"Document sensor id and container id\"  can be executed in parallel with the activity \"Calibrate sensor\"?',\n",
    "  'type': 'multiple-choice',\n",
    "  'options': \"True;False;I don't know\",\n",
    "  'model-group': '1',\n",
    "  'ExpectedAnswer': \"False\",\n",
    "  'Type1': 'Global',\n",
    "  'Type2': 'Control-flow',\n",
    "  'Type3': 'Concurrency'},\n",
    " {'id': 25,\n",
    "  'question': ' The activities \"Request container deletion\" and \"Schedule transportation from temporary storage\" are mutually exclusive?',\n",
    "  'type': 'multiple-choice',\n",
    "  'options': \"True;False;I don't know\",\n",
    "  'model-group': '1',\n",
    "  'ExpectedAnswer': \"True\",\n",
    "  'Type1': 'Global',\n",
    "  'Type2': 'Control-flow',\n",
    "  'Type3': 'Exclusiveness'},\n",
    " {'id': 28,\n",
    "  'question': ' The activities \"Document results of scan in erp file\" and \"Log into erp system\" can be executed several times?',\n",
    "  'type': 'multiple-choice',\n",
    "  'options': \"True;False;I don't know\",\n",
    "  'model-group': '1',\n",
    "  'ExpectedAnswer': \"True\",\n",
    "  'Type1': 'Global',\n",
    "  'Type2': 'Control-flow',\n",
    "  'Type3': 'Repetition'},\n",
    " {'id': 31,\n",
    "  'question': ' The activity \"Reset the sensor\" can only be executed after the activity \"Check intensity of the shake\" changes the state of the \"Sensor\" object to \"[signalling shake]\"?',\n",
    "  'type': 'multiple-choice',\n",
    "  'options': \"True;False;I don't know\",\n",
    "  'model-group': '1',\n",
    "  'ExpectedAnswer': \"True\",\n",
    "  'Type1': 'Local',\n",
    "  'Type2': 'Data-flow',\n",
    "  'Type3': 'Data Interaction - Task to Task'},\n",
    " {'id': 34,\n",
    "  'question': ' The activities \"Activate accelerometer sensor\" and \"Load container onto forklift truck\" can only be executed if the \"Container\" object is in the state \"[offloaded]\"?',\n",
    "  'type': 'multiple-choice',\n",
    "  'options': \"True;False;I don't know\",\n",
    "  'model-group': '1',\n",
    "  'ExpectedAnswer': \"False\",\n",
    "  'Type1': 'Local',\n",
    "  'Type2': 'Data-flow',\n",
    "  'Type3': 'Task Precondition'},\n",
    " {'id': 37,\n",
    "  'question': ' If the \"Container\" object is in state \"[in transition]\"  the activity \"Collect container from scanning platform\" is executable, whereas the activity \"Collect container from temporary storage\" is not executable?',\n",
    "  'type': 'multiple-choice',\n",
    "  'options': \"True;False;I don't know\",\n",
    "  'model-group': '1',\n",
    "  'ExpectedAnswer': \"True\",\n",
    "  'Type1': 'Local',\n",
    "  'Type2': 'Data-flow',\n",
    "  'Type3': 'Data-based Routing'},\n",
    " {'id': 40,\n",
    "  'question': ' The activity \"Label container as scanned\" can only be executed after the activtiy \"Store file\" changes the state of the \"ERP file\" object to \"[saved]\"?',\n",
    "  'type': 'multiple-choice',\n",
    "  'options': \"True;False;I don't know\",\n",
    "  'model-group': '1',\n",
    "  'ExpectedAnswer': \"True\",\n",
    "  'Type1': 'Global',\n",
    "  'Type2': 'Data-flow',\n",
    "  'Type3': 'Data Interaction - Task to Task'},\n",
    " {'id': 43,\n",
    "  'question': ' The activities \"Request transportation from temporary storage to platform\" and \"Label container as shaken\" can only be executed if the \"Sensor\" object is in the state \"[idle]\"?',\n",
    "  'type': 'multiple-choice',\n",
    "  'options': \"True;False;I don't know\",\n",
    "  'model-group': '1',\n",
    "  'ExpectedAnswer': \"False\",\n",
    "  'Type1': 'Global',\n",
    "  'Type2': 'Data-flow',\n",
    "  'Type3': 'Task Precondition'},\n",
    " {'id': 46,\n",
    "  'question': ' If the \"Container\" object is in state \"[temporarily stored]\"  the activity \"Bring container to storage unit\" is executable, whereas the activity \"Schedule transportation from scanning platform\" is not executable?',\n",
    "  'type': 'multiple-choice',\n",
    "  'options': \"True;False;I don't know\",\n",
    "  'model-group': '1',\n",
    "  'ExpectedAnswer': \"True\",\n",
    "  'Type1': 'Global',\n",
    "  'Type2': 'Data-flow',\n",
    "  'Type3': 'Data-based Routing'}]"
   ]
  },
  {
   "cell_type": "code",
   "execution_count": 6,
   "id": "358abb1d",
   "metadata": {},
   "outputs": [],
   "source": [
    "data = pd.read_csv(\"LHIPA.csv\")"
   ]
  },
  {
   "cell_type": "code",
   "execution_count": 7,
   "id": "556f374d",
   "metadata": {},
   "outputs": [],
   "source": [
    "def lhipa(allData,questions,grouper):\n",
    "    #descriptives\n",
    "    #drop na\n",
    "    allData['task'] = allData['task'].astype('int')\n",
    "    allData = allData.merge(pd.DataFrame(questions), left_on=['task'], right_on=['id'])\n",
    "\n",
    "\n",
    "    return {\"full\": allData,\n",
    "           \"grouped\": allData.groupby(grouper).agg({'LHIPA':['mean']})\n",
    "           }\n"
   ]
  },
  {
   "cell_type": "code",
   "execution_count": 8,
   "id": "c87f0097",
   "metadata": {},
   "outputs": [
    {
     "data": {
      "text/plain": [
       "array(['SP10-no', 'SP2-no', 'SP14-no', 'SP6-no', 'SP15-no', 'SP7-no',\n",
       "       'SP11-no', 'SP3-no', 'SP8-no', 'SP9-no', 'SP16-no', 'SP4-no',\n",
       "       'SP12-no', 'SP13-no', 'SP1-no', 'SP17-no', 'SP5-no', 'KP7-no',\n",
       "       'KP3-no', 'KP2-no', 'KP6-no', 'KP24-no', 'KP10-no', 'KP9-no',\n",
       "       'KP14-no', 'KP20-no', 'KP8-no', 'KP15-no', 'KP21-no', 'KP11-no',\n",
       "       'KP16-no', 'KP22-no', 'SP18-no', 'KP12-no', 'SP19-no', 'KP13-no',\n",
       "       'KP17-no', 'KP23-no', 'KP1-no', 'KP5-no', 'KP18-no', 'KP4-no',\n",
       "       'KP19-no', 'SP20-no'], dtype=object)"
      ]
     },
     "execution_count": 8,
     "metadata": {},
     "output_type": "execute_result"
    }
   ],
   "source": [
    "data['participant'].unique()"
   ]
  },
  {
   "cell_type": "code",
   "execution_count": 11,
   "id": "81f6f181",
   "metadata": {},
   "outputs": [
    {
     "name": "stdout",
     "output_type": "stream",
     "text": [
      "(616, 13)\n",
      "(602, 13)\n",
      "(336, 13)\n"
     ]
    }
   ],
   "source": [
    "#Remove SP20 + all questions for a participant (local + global!) if either local or global is nan:\n",
    "#KP16 --> Ordering\n",
    "#SP20 --> all\n",
    "#SP11 --> Exclusivness\n",
    "#SP2 --> Repetition + Concurrency\n",
    "\n",
    "measureAllData = lhipa(data,questions,['Type1','Type2','Type3'])[\"full\"]\n",
    "print(measureAllData.shape)\n",
    "\n",
    "measureAllData_new = measureAllData.drop(measureAllData[measureAllData['participant'] == 'SP20-no'].index)\n",
    "print(measureAllData_new.shape) #-->616-14\n",
    "\n",
    "measureAllData_new = measureAllData_new.drop(measureAllData[(measureAllData['participant'] == 'KP16-no') & (measureAllData['Type3'] == 'Ordering')].index)\n",
    "measureAllData_new = measureAllData_new.drop(measureAllData[(measureAllData['participant'] == 'SP11-no') & (measureAllData['Type3'] == 'Exclusiveness')].index)\n",
    "measureAllData_new = measureAllData_new.drop(measureAllData[(measureAllData['participant'] == 'SP2-no') & (measureAllData['Type3'] == 'Repetition')].index)\n",
    "measureAllData_new = measureAllData_new.drop(measureAllData[(measureAllData['participant'] == 'SP2-no') & (measureAllData['Type3'] == 'Concurrency')].index)\n",
    "\n",
    "#Select control-flow question type\n",
    "measureAllData_new = measureAllData_new.loc[(measureAllData_new['Type2'] == 'Control-flow')] \n",
    "print(measureAllData_new.shape) #-->602-4*2"
   ]
  },
  {
   "cell_type": "code",
   "execution_count": 36,
   "id": "17b14961",
   "metadata": {},
   "outputs": [],
   "source": [
    "#LHIPA"
   ]
  },
  {
   "cell_type": "code",
   "execution_count": 12,
   "id": "fb795ad7",
   "metadata": {},
   "outputs": [
    {
     "data": {
      "text/html": [
       "<div>\n",
       "<style scoped>\n",
       "    .dataframe tbody tr th:only-of-type {\n",
       "        vertical-align: middle;\n",
       "    }\n",
       "\n",
       "    .dataframe tbody tr th {\n",
       "        vertical-align: top;\n",
       "    }\n",
       "\n",
       "    .dataframe thead th {\n",
       "        text-align: right;\n",
       "    }\n",
       "</style>\n",
       "<table border=\"1\" class=\"dataframe\">\n",
       "  <thead>\n",
       "    <tr style=\"text-align: right;\">\n",
       "      <th></th>\n",
       "      <th>LHIPA</th>\n",
       "    </tr>\n",
       "    <tr>\n",
       "      <th>Type1</th>\n",
       "      <th></th>\n",
       "    </tr>\n",
       "  </thead>\n",
       "  <tbody>\n",
       "    <tr>\n",
       "      <th>Global</th>\n",
       "      <td>0.818217</td>\n",
       "    </tr>\n",
       "    <tr>\n",
       "      <th>Local</th>\n",
       "      <td>1.187703</td>\n",
       "    </tr>\n",
       "  </tbody>\n",
       "</table>\n",
       "</div>"
      ],
      "text/plain": [
       "           LHIPA\n",
       "Type1           \n",
       "Global  0.818217\n",
       "Local   1.187703"
      ]
     },
     "execution_count": 12,
     "metadata": {},
     "output_type": "execute_result"
    }
   ],
   "source": [
    "# NEW\n",
    "#adjusted data set\n",
    "measureAllData_new.groupby(['Type1']).agg({'LHIPA':'mean'})"
   ]
  },
  {
   "cell_type": "code",
   "execution_count": 16,
   "id": "158a978d",
   "metadata": {},
   "outputs": [
    {
     "name": "stdout",
     "output_type": "stream",
     "text": [
      "43 43\n"
     ]
    },
    {
     "data": {
      "text/plain": [
       "WilcoxonResult(statistic=29.0, pvalue=1.9770141079789028e-10)"
      ]
     },
     "execution_count": 16,
     "metadata": {},
     "output_type": "execute_result"
    }
   ],
   "source": [
    "# NEW Control-flow\n",
    "lhipa_participant = measureAllData_new.groupby(['participant', 'Type1', 'Type2']).agg({'LHIPA':'mean'})\n",
    "lhipa_participant = lhipa_participant.reset_index()\n",
    "#print(lhipa_participant)\n",
    "\n",
    "lhipa_Global = lhipa_participant.loc[(lhipa_participant[\"Type1\"]=='Global')]['LHIPA']\n",
    "lhipa_Local = lhipa_participant.loc[(lhipa_participant[\"Type1\"]=='Local')]['LHIPA']\n",
    "print(len(lhipa_Global), len(lhipa_Local))\n",
    "\n",
    "stats.wilcoxon(lhipa_Global, lhipa_Local,alternative='less')"
   ]
  }
 ],
 "metadata": {
  "kernelspec": {
   "display_name": "Python 3",
   "language": "python",
   "name": "python3"
  },
  "language_info": {
   "codemirror_mode": {
    "name": "ipython",
    "version": 3
   },
   "file_extension": ".py",
   "mimetype": "text/x-python",
   "name": "python",
   "nbconvert_exporter": "python",
   "pygments_lexer": "ipython3",
   "version": "3.9.5"
  }
 },
 "nbformat": 4,
 "nbformat_minor": 5
}
